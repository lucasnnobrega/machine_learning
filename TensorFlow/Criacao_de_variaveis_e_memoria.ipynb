{
 "cells": [
  {
   "cell_type": "code",
   "execution_count": 1,
   "id": "29f9a779-3516-4d46-ad80-2687236e6a2d",
   "metadata": {},
   "outputs": [],
   "source": [
    "import tensorflow as tf\n",
    "tf.debugging.set_log_device_placement(True)"
   ]
  },
  {
   "cell_type": "code",
   "execution_count": 2,
   "id": "1685b2e7-491c-4de3-babd-d4f3266ea034",
   "metadata": {},
   "outputs": [],
   "source": [
    "with tf.device(\"GPU:0\"):\n",
    "    a = tf.constant([0.0, 1.0, 2.0])"
   ]
  },
  {
   "cell_type": "code",
   "execution_count": 3,
   "id": "812b77a3-6685-4d1e-aaf0-e69eb2ff3ea4",
   "metadata": {},
   "outputs": [
    {
     "data": {
      "text/plain": [
       "'/job:localhost/replica:0/task:0/device:CPU:0'"
      ]
     },
     "execution_count": 3,
     "metadata": {},
     "output_type": "execute_result"
    }
   ],
   "source": [
    "a.device"
   ]
  },
  {
   "cell_type": "code",
   "execution_count": 4,
   "id": "6da3c54b-4d6a-4094-8a72-14af2555f3a0",
   "metadata": {},
   "outputs": [],
   "source": [
    "del(a)"
   ]
  },
  {
   "cell_type": "code",
   "execution_count": 5,
   "id": "098e0f8a-03a0-4b4a-84cf-ba8b95153c47",
   "metadata": {},
   "outputs": [],
   "source": [
    "ta = tf.TensorArray(tf.float32, size=0, dynamic_size=True, clear_after_read=False)\n",
    "ta = ta.write(0, 1.0)\n",
    "ta = ta.write(1, 2.0)\n",
    "ta = ta.write(2, 3.0)"
   ]
  },
  {
   "cell_type": "code",
   "execution_count": 8,
   "id": "f0a6e691-4bab-4470-a94f-56d361f372bd",
   "metadata": {},
   "outputs": [
    {
     "name": "stdout",
     "output_type": "stream",
     "text": [
      "Executing op MatMul in device /job:localhost/replica:0/task:0/device:GPU:0\n",
      "tf.Tensor(\n",
      "[[22. 28.]\n",
      " [49. 64.]], shape=(2, 2), dtype=float32)\n"
     ]
    }
   ],
   "source": [
    "#tf.debugging.set_log_device_placement(True)\n",
    "\n",
    "# Create some tensors\n",
    "a = tf.constant([[1.0, 2.0, 3.0], [4.0, 5.0, 6.0]])\n",
    "b = tf.constant([[1.0, 2.0], [3.0, 4.0], [5.0, 6.0]])\n",
    "c = tf.matmul(a, b)\n",
    "\n",
    "print(c)\n"
   ]
  },
  {
   "cell_type": "code",
   "execution_count": 9,
   "id": "47e21815-984d-4f12-a7e1-2d2d75388c38",
   "metadata": {},
   "outputs": [
    {
     "name": "stdout",
     "output_type": "stream",
     "text": [
      "/job:localhost/replica:0/task:0/device:CPU:0\n",
      "/job:localhost/replica:0/task:0/device:CPU:0\n",
      "/job:localhost/replica:0/task:0/device:GPU:0\n"
     ]
    }
   ],
   "source": [
    "for i in [a, b, c]:\n",
    "    print(i.device)"
   ]
  },
  {
   "cell_type": "code",
   "execution_count": 10,
   "id": "8ec80a59-ec36-4f0a-ba1c-7f633082f4e5",
   "metadata": {},
   "outputs": [],
   "source": [
    "# Create some tensors\n",
    "s = tf.constant([[1.0, 2.0, 3.0], [4.0, 5.0, 6.0]])\n",
    "e = tf.constant([[1.0, 2.0], [3.0, 4.0], [5.0, 6.0]])\n",
    "w = tf.matmul(a, b)"
   ]
  },
  {
   "cell_type": "code",
   "execution_count": 11,
   "id": "703f09f0-5988-49be-b5a9-77b44e6303cb",
   "metadata": {},
   "outputs": [
    {
     "data": {
      "text/plain": [
       "<tf.Tensor: shape=(2, 2), dtype=float32, numpy=\n",
       "array([[22., 28.],\n",
       "       [49., 64.]], dtype=float32)>"
      ]
     },
     "execution_count": 11,
     "metadata": {},
     "output_type": "execute_result"
    }
   ],
   "source": [
    "w"
   ]
  },
  {
   "cell_type": "code",
   "execution_count": null,
   "id": "f905c2d1-bab1-4adf-aeb6-11d93a234766",
   "metadata": {},
   "outputs": [],
   "source": []
  }
 ],
 "metadata": {
  "kernelspec": {
   "display_name": "Python 3",
   "language": "python",
   "name": "python3"
  },
  "language_info": {
   "codemirror_mode": {
    "name": "ipython",
    "version": 3
   },
   "file_extension": ".py",
   "mimetype": "text/x-python",
   "name": "python",
   "nbconvert_exporter": "python",
   "pygments_lexer": "ipython3",
   "version": "3.6.13"
  }
 },
 "nbformat": 4,
 "nbformat_minor": 5
}
